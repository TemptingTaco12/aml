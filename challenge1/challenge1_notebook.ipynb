{
 "cells": [
  {
   "cell_type": "markdown",
   "metadata": {
    "_cell_guid": "b1076dfc-b9ad-4769-8c92-a6c4dae69d19",
    "_uuid": "8f2839f25d086af736a60e9eeb907d3b93b6e0e5"
   },
   "source": [
    "## Acknowledgements\n",
    "\n",
    "This notebook was originally prepared by Dr. Simone Rossi, who has been a Ph.D. student and then a Postdoctoral Researcher at Eurecom."
   ]
  },
  {
   "cell_type": "code",
   "execution_count": null,
   "metadata": {
    "execution": {
     "iopub.execute_input": "2023-04-03T13:01:00.110192Z",
     "iopub.status.busy": "2023-04-03T13:01:00.109735Z",
     "iopub.status.idle": "2023-04-03T13:01:00.840722Z",
     "shell.execute_reply": "2023-04-03T13:01:00.839405Z",
     "shell.execute_reply.started": "2023-04-03T13:01:00.110151Z"
    }
   },
   "outputs": [],
   "source": [
    "import pandas as pd \n",
    "import matplotlib.pyplot as plt \n",
    "import numpy as np \n",
    "import seaborn as sns\n",
    "from tqdm.notebook import tqdm \n",
    "\n",
    "import matplotlib\n",
    "from matplotlib import rc\n",
    "\n",
    "rc(\"font\", **{\"family\": \"sans-serif\", \"sans-serif\": \"DejaVu Sans\"})\n",
    "rc(\"figure\", **{\"dpi\": 200})\n",
    "rc(\n",
    "    \"axes\",\n",
    "    **{\"spines.right\": False, \"spines.top\": False, \"xmargin\": 0.0, \"ymargin\": 0.05}\n",
    ")"
   ]
  },
  {
   "cell_type": "code",
   "execution_count": null,
   "metadata": {
    "execution": {
     "iopub.execute_input": "2023-04-03T13:01:05.180171Z",
     "iopub.status.busy": "2023-04-03T13:01:05.179758Z",
     "iopub.status.idle": "2023-04-03T13:02:25.226822Z",
     "shell.execute_reply": "2023-04-03T13:02:25.225779Z",
     "shell.execute_reply.started": "2023-04-03T13:01:05.180128Z"
    }
   },
   "outputs": [],
   "source": [
    "df = pd.read_csv('../input/eurecom-aml-2023-challenge-1/public/train.csv', low_memory=True)"
   ]
  },
  {
   "cell_type": "code",
   "execution_count": null,
   "metadata": {
    "execution": {
     "iopub.execute_input": "2023-04-03T13:02:45.805575Z",
     "iopub.status.busy": "2023-04-03T13:02:45.805051Z",
     "iopub.status.idle": "2023-04-03T13:02:57.100936Z",
     "shell.execute_reply": "2023-04-03T13:02:57.099896Z",
     "shell.execute_reply.started": "2023-04-03T13:02:45.805523Z"
    }
   },
   "outputs": [],
   "source": [
    "df_test = pd.read_csv('../input/eurecom-aml-2023-challenge-1/public/test_feat.csv', low_memory=True)"
   ]
  },
  {
   "cell_type": "code",
   "execution_count": null,
   "metadata": {
    "execution": {
     "iopub.execute_input": "2023-04-03T13:02:57.103238Z",
     "iopub.status.busy": "2023-04-03T13:02:57.102839Z",
     "iopub.status.idle": "2023-04-03T13:02:57.154003Z",
     "shell.execute_reply": "2023-04-03T13:02:57.152526Z",
     "shell.execute_reply.started": "2023-04-03T13:02:57.103202Z"
    }
   },
   "outputs": [],
   "source": [
    "df.head()"
   ]
  },
  {
   "cell_type": "markdown",
   "metadata": {},
   "source": [
    "# Data analysis\n",
    "\n",
    "In this challenge, you are free (and encouraged) to explore in depth the data you have, you can run simple queries on the data, perform exploration and compute statistics.\n",
    "\n",
    "**NOTE**: finding the right question to ask is difficult! Don't be afraid to complement your analysis with your own questions. This can give you extra points!\n",
    "\n",
    "**NOTE 2**: the presentation quality is critical in any business-oriented data analysis. Take time to create few but informative plots, rather than endless tables! "
   ]
  },
  {
   "cell_type": "code",
   "execution_count": null,
   "metadata": {
    "execution": {
     "iopub.execute_input": "2023-04-03T13:03:09.048162Z",
     "iopub.status.busy": "2023-04-03T13:03:09.047719Z",
     "iopub.status.idle": "2023-04-03T13:03:09.215406Z",
     "shell.execute_reply": "2023-04-03T13:03:09.214162Z",
     "shell.execute_reply.started": "2023-04-03T13:03:09.048122Z"
    }
   },
   "outputs": [],
   "source": [
    "tr_coordinates = df[['fact_latitude','fact_longitude']].drop_duplicates()\n",
    "te_coordinates = df_test[['fact_latitude','fact_longitude']].drop_duplicates()"
   ]
  },
  {
   "cell_type": "code",
   "execution_count": null,
   "metadata": {
    "execution": {
     "iopub.execute_input": "2023-04-03T13:03:13.198277Z",
     "iopub.status.busy": "2023-04-03T13:03:13.197822Z",
     "iopub.status.idle": "2023-04-03T13:03:13.233337Z",
     "shell.execute_reply": "2023-04-03T13:03:13.232381Z",
     "shell.execute_reply.started": "2023-04-03T13:03:13.198238Z"
    }
   },
   "outputs": [],
   "source": [
    "merged = te_coordinates.merge(tr_coordinates, how='left', indicator=True)\n",
    "tropic_coordinates = merged[merged['_merge']=='left_only']\n",
    "common_coordinates = merged[merged['_merge']=='both']"
   ]
  },
  {
   "cell_type": "code",
   "execution_count": null,
   "metadata": {
    "execution": {
     "iopub.execute_input": "2023-04-03T13:03:16.544018Z",
     "iopub.status.busy": "2023-04-03T13:03:16.543564Z",
     "iopub.status.idle": "2023-04-03T13:03:17.439871Z",
     "shell.execute_reply": "2023-04-03T13:03:17.43888Z",
     "shell.execute_reply.started": "2023-04-03T13:03:16.543975Z"
    }
   },
   "outputs": [],
   "source": [
    "fig, (ax0, ax1) = plt.subplots(1, 2, figsize=[10, 3], dpi=200, sharex=True, sharey=True)\n",
    "ax0.scatter(tr_coordinates['fact_longitude'], tr_coordinates['fact_latitude'], \n",
    "            s=1, c='tab:green', label='Train data')\n",
    "ax1.scatter(common_coordinates['fact_longitude'], common_coordinates['fact_latitude'], \n",
    "            s=1, c='tab:orange', label='In-domain test data')\n",
    "ax1.scatter(tropic_coordinates['fact_longitude'], tropic_coordinates['fact_latitude'], \n",
    "            s=1, c='tab:red', label='Out-domain test data')\n",
    "ax0.legend(), ax1.legend()\n",
    "fig.suptitle('Distribution of train and test points in the dataset', y=1.01, fontsize=14)\n",
    "plt.show()"
   ]
  },
  {
   "cell_type": "markdown",
   "metadata": {},
   "source": [
    "\n",
    "# Data Pre-processing\n",
    "\n",
    "The previous step should give you a better understanding of which pre-processing is required for the data. This may include:\n",
    "\n",
    "-    Normalising and standardising the given data;\n",
    "-    Removing outliers;\n",
    "-    Carrying out feature selection, possibly using metrics derived from information theory;\n",
    "-    Handling missing information in the dataset;\n",
    "-    Augmenting the dataset with external information;\n",
    "-    Combining existing features.\n",
    "\n",
    "Below is a very basic example of pre-processing steps.\n"
   ]
  },
  {
   "cell_type": "code",
   "execution_count": null,
   "metadata": {
    "execution": {
     "iopub.execute_input": "2023-04-03T13:03:23.143395Z",
     "iopub.status.busy": "2023-04-03T13:03:23.143007Z",
     "iopub.status.idle": "2023-04-03T13:03:23.149815Z",
     "shell.execute_reply": "2023-04-03T13:03:23.148445Z",
     "shell.execute_reply.started": "2023-04-03T13:03:23.143363Z"
    }
   },
   "outputs": [],
   "source": [
    "col_selection = [\n",
    "    'index', 'fact_time', 'fact_latitude', 'fact_longitude',\n",
    "    'topography_bathymetry', 'sun_elevation', 'cmc_precipitations', \n",
    "    'gfs_a_vorticity', 'gfs_cloudness', 'gfs_clouds_sea', 'gfs_humidity',\n",
    "    'fact_temperature'\n",
    "]"
   ]
  },
  {
   "cell_type": "code",
   "execution_count": null,
   "metadata": {
    "execution": {
     "iopub.execute_input": "2023-04-03T13:03:26.592922Z",
     "iopub.status.busy": "2023-04-03T13:03:26.591644Z",
     "iopub.status.idle": "2023-04-03T13:03:27.005694Z",
     "shell.execute_reply": "2023-04-03T13:03:27.004037Z",
     "shell.execute_reply.started": "2023-04-03T13:03:26.592855Z"
    }
   },
   "outputs": [],
   "source": [
    "X = df[col_selection].dropna().iloc[:, 1:-1].values\n",
    "y = df[col_selection].dropna().iloc[:, -1].values"
   ]
  },
  {
   "cell_type": "code",
   "execution_count": null,
   "metadata": {
    "execution": {
     "iopub.execute_input": "2023-04-03T13:03:28.910384Z",
     "iopub.status.busy": "2023-04-03T13:03:28.909756Z",
     "iopub.status.idle": "2023-04-03T13:03:29.08194Z",
     "shell.execute_reply": "2023-04-03T13:03:29.080984Z",
     "shell.execute_reply.started": "2023-04-03T13:03:28.910329Z"
    }
   },
   "outputs": [],
   "source": [
    "Xmean, Xstd, ymean, ystd = X.mean(0), X.std(0), y.mean(), y.std()\n",
    "X = (X - Xmean) / Xstd\n",
    "y = (y - ymean) / ystd"
   ]
  },
  {
   "cell_type": "markdown",
   "metadata": {},
   "source": [
    "\n",
    "# Model Selection\n",
    "\n",
    "Perhaps one of the most important segments of this challenge involves the selection of a model that can successfully handle the given data and yield sensible predictions. Instead of focusing exclusively on your final chosen model, it is also important to share your thought process in this notebook by additionally describing alternative candidate models. There is a wealth of models to choose from, such as decision trees, random forests, (Bayesian) neural networks, Gaussian processes, Lasso regression, and so on. There are several factors which may influence your decision:\n",
    "\n",
    "-    What is the model's complexity?\n",
    "-    Is the model interpretable?\n",
    "-    Is the model capable of handling different data-types?\n",
    "-    Does the model return uncertainty estimates along with predictions?\n",
    "\n",
    "In this baseline solution, we use the Lasso regression model, which is a linear least-square model with L1 regularization on its parameters. There is a hyper-parameter that should be tuned which is the regularization strength α. Intuitively, this hyper-parameter controls the amount of shrinkage of the parameters of the model: the larger the value of α the greater the amount of shrinkage.\n",
    "\n",
    "Section 3.4.1 of the book The Elements of Statistical Learning: Data Mining, Inference, and Prediction from Trevor Hastie et al. (https://hastie.su.domains/Papers/ESLII.pdf) is a good reference for some classic regression models."
   ]
  },
  {
   "cell_type": "code",
   "execution_count": null,
   "metadata": {
    "execution": {
     "iopub.execute_input": "2023-04-03T13:03:33.091013Z",
     "iopub.status.busy": "2023-04-03T13:03:33.090587Z",
     "iopub.status.idle": "2023-04-03T13:03:33.778416Z",
     "shell.execute_reply": "2023-04-03T13:03:33.776764Z",
     "shell.execute_reply.started": "2023-04-03T13:03:33.090976Z"
    }
   },
   "outputs": [],
   "source": [
    "from sklearn.model_selection import train_test_split\n",
    "Xtr, Xval, ytr, yval = train_test_split(X, y, random_state=1, test_size=10000)"
   ]
  },
  {
   "cell_type": "code",
   "execution_count": null,
   "metadata": {
    "execution": {
     "iopub.execute_input": "2023-04-03T13:03:35.0091Z",
     "iopub.status.busy": "2023-04-03T13:03:35.008436Z",
     "iopub.status.idle": "2023-04-03T13:03:35.436598Z",
     "shell.execute_reply": "2023-04-03T13:03:35.43459Z",
     "shell.execute_reply.started": "2023-04-03T13:03:35.009061Z"
    }
   },
   "outputs": [],
   "source": [
    "from sklearn.linear_model import Lasso\n",
    "\n",
    "def compute_rmse(y, ypred, ystd=1.):\n",
    "    return np.mean((y - ypred)**2)**0.5 * ystd\n",
    "\n",
    "model = Lasso(alpha=1)\n",
    "model.fit(Xtr, ytr)\n",
    "ypred_tr = model.predict(Xtr)\n",
    "ypred_val = model.predict(Xval)\n",
    "\n",
    "print(f'Train RMSE: {compute_rmse(ytr, ypred_tr, ystd):.3f}')\n",
    "print(f'Valid RMSE: {compute_rmse(yval, ypred_val, ystd):.3f}')"
   ]
  },
  {
   "cell_type": "markdown",
   "metadata": {},
   "source": [
    "# Parameter Optimisation\n",
    "\n",
    "Irrespective of your choice, it is highly likely that your model will have one or more parameters that require tuning. There are several techniques for carrying out such a procedure, including cross-validation, Bayesian optimisation, and several others. As before, an analysis into which parameter tuning technique best suits your model is expected before proceeding with the optimisation of your model.\n",
    "\n",
    "The below cells demonstrate tuning the hyper-parameters α of the Ridge regression model by using cross-validation."
   ]
  },
  {
   "cell_type": "code",
   "execution_count": null,
   "metadata": {
    "execution": {
     "iopub.execute_input": "2023-04-03T13:03:43.857148Z",
     "iopub.status.busy": "2023-04-03T13:03:43.856743Z",
     "iopub.status.idle": "2023-04-03T13:03:43.862629Z",
     "shell.execute_reply": "2023-04-03T13:03:43.861381Z",
     "shell.execute_reply.started": "2023-04-03T13:03:43.857114Z"
    }
   },
   "outputs": [],
   "source": [
    "from sklearn.model_selection import RandomizedSearchCV, GridSearchCV"
   ]
  },
  {
   "cell_type": "code",
   "execution_count": null,
   "metadata": {
    "execution": {
     "iopub.execute_input": "2023-04-03T13:03:46.290205Z",
     "iopub.status.busy": "2023-04-03T13:03:46.289787Z",
     "iopub.status.idle": "2023-04-03T13:03:46.297156Z",
     "shell.execute_reply": "2023-04-03T13:03:46.296156Z",
     "shell.execute_reply.started": "2023-04-03T13:03:46.290171Z"
    }
   },
   "outputs": [],
   "source": [
    "import numpy as np\n",
    "\n",
    "def get_cv_idx(n, test_size=0.2, n_splits=2):\n",
    "    train_idx, test_idx = [], []\n",
    "    for _ in range(n_splits):\n",
    "        idx = np.random.permutation(n)\n",
    "        train_size = int(n * (1 - test_size)) if isinstance(test_size, float) else n - test_size\n",
    "        train_idx.append(idx[:train_size])\n",
    "        test_idx.append(idx[train_size:])\n",
    "    return train_idx, test_idx"
   ]
  },
  {
   "cell_type": "code",
   "execution_count": null,
   "metadata": {
    "execution": {
     "iopub.execute_input": "2023-04-03T13:03:51.422941Z",
     "iopub.status.busy": "2023-04-03T13:03:51.422494Z",
     "iopub.status.idle": "2023-04-03T13:03:52.326506Z",
     "shell.execute_reply": "2023-04-03T13:03:52.3252Z",
     "shell.execute_reply.started": "2023-04-03T13:03:51.422886Z"
    }
   },
   "outputs": [],
   "source": [
    "train_idx, cv_idx = get_cv_idx(len(Xtr), test_size=10000, n_splits=10)"
   ]
  },
  {
   "cell_type": "code",
   "execution_count": null,
   "metadata": {
    "execution": {
     "iopub.execute_input": "2023-04-03T13:03:57.439692Z",
     "iopub.status.busy": "2023-04-03T13:03:57.438315Z",
     "iopub.status.idle": "2023-04-03T13:04:22.667037Z",
     "shell.execute_reply": "2023-04-03T13:04:22.662966Z",
     "shell.execute_reply.started": "2023-04-03T13:03:57.439628Z"
    }
   },
   "outputs": [],
   "source": [
    "param_grid = {\n",
    "    \"alpha\": [0.001, 0.01, 0.1, 1, 10]\n",
    "}\n",
    "\n",
    "search = GridSearchCV(model, \n",
    "                      param_grid,\n",
    "                      n_jobs=-1, \n",
    "                      verbose=1,\n",
    "                      cv=zip(train_idx, cv_idx), \n",
    "                      scoring='neg_root_mean_squared_error').fit(Xtr, ytr)\n",
    "print('Done!')"
   ]
  },
  {
   "cell_type": "code",
   "execution_count": null,
   "metadata": {
    "execution": {
     "iopub.execute_input": "2023-04-03T13:04:22.675935Z",
     "iopub.status.busy": "2023-04-03T13:04:22.674335Z",
     "iopub.status.idle": "2023-04-03T13:04:22.702468Z",
     "shell.execute_reply": "2023-04-03T13:04:22.700988Z",
     "shell.execute_reply.started": "2023-04-03T13:04:22.675845Z"
    }
   },
   "outputs": [],
   "source": [
    "print(\"Best parameters set found on cv set:\")\n",
    "print(search.best_params_)\n",
    "print()\n",
    "print(\"Grid scores on cv set:\")\n",
    "means = search.cv_results_[\"mean_test_score\"]\n",
    "stds = search.cv_results_[\"std_test_score\"]\n",
    "for mean, std, params in zip(means, stds, search.cv_results_[\"params\"]):\n",
    "    print(\"%0.3f (+/-%0.03f) for %r\" % (-mean * ystd, (std * ystd) * 2, params))\n",
    "print()\n",
    "print(\"Error on the validation set\")\n",
    "ypred_val = search.predict(Xval)\n",
    "print(f'Valid RMSE: {compute_rmse(yval, ypred_val, ystd):.3f}')"
   ]
  },
  {
   "cell_type": "markdown",
   "metadata": {},
   "source": [
    "# Model Evaluation\n",
    "\n",
    "Some form of pre-evaluation will inevitably be required in the preceding sections in order to both select an appropriate model and configure its parameters appropriately. In this final section, you may evaluate other aspects of the model such as:\n",
    "\n",
    "-    Assessing the running time of your model;\n",
    "-    Determining whether some aspects can be parallelised;\n",
    "-    Training the model with smaller subsets of the data.\n",
    "-    etc.\n",
    "\n",
    "Remember, the goal of this challenge is to construct a model for predicting the temperature around the globe.\n",
    "\n"
   ]
  },
  {
   "cell_type": "code",
   "execution_count": null,
   "metadata": {
    "execution": {
     "iopub.execute_input": "2023-04-03T13:05:13.105164Z",
     "iopub.status.busy": "2023-04-03T13:05:13.104613Z",
     "iopub.status.idle": "2023-04-03T13:05:24.851943Z",
     "shell.execute_reply": "2023-04-03T13:05:24.85064Z",
     "shell.execute_reply.started": "2023-04-03T13:05:13.105121Z"
    }
   },
   "outputs": [],
   "source": [
    "df_test = pd.read_csv('../input/eurecom-aml-2023-challenge-1/public/test_feat.csv', low_memory=True)"
   ]
  },
  {
   "cell_type": "code",
   "execution_count": null,
   "metadata": {
    "execution": {
     "iopub.execute_input": "2023-04-03T13:05:24.855523Z",
     "iopub.status.busy": "2023-04-03T13:05:24.854446Z",
     "iopub.status.idle": "2023-04-03T13:05:24.902197Z",
     "shell.execute_reply": "2023-04-03T13:05:24.900731Z",
     "shell.execute_reply.started": "2023-04-03T13:05:24.855471Z"
    }
   },
   "outputs": [],
   "source": [
    "col_selection = [\n",
    "    'index', 'fact_time', 'fact_latitude', 'fact_longitude',\n",
    "    'topography_bathymetry', 'sun_elevation', 'cmc_precipitations',\n",
    "    'gfs_a_vorticity', 'gfs_cloudness', 'gfs_clouds_sea', 'gfs_humidity'\n",
    "]\n",
    "\n",
    "Xte = df_test[col_selection].iloc[:, 1:].values\n",
    "Xte = (Xte - Xmean) / Xstd"
   ]
  },
  {
   "cell_type": "code",
   "execution_count": null,
   "metadata": {
    "execution": {
     "iopub.execute_input": "2023-04-03T13:05:24.904852Z",
     "iopub.status.busy": "2023-04-03T13:05:24.90416Z",
     "iopub.status.idle": "2023-04-03T13:05:24.922541Z",
     "shell.execute_reply": "2023-04-03T13:05:24.920632Z",
     "shell.execute_reply.started": "2023-04-03T13:05:24.904809Z"
    }
   },
   "outputs": [],
   "source": [
    "ypred_te = search.predict(Xte) * ystd + ymean  # Remember to un-standardize the predictions"
   ]
  },
  {
   "cell_type": "markdown",
   "metadata": {},
   "source": [
    "\n",
    "# Submission\n",
    "Your submission is a CSV file containing your final model's predictions on the given test data. This file should contain a header and have the following format:\n",
    "\n",
    "```\n",
    "index,fact_temperature\n",
    "1993574,3.9865149124872303\n",
    "1993575,18.165092058370533\n",
    "1993576,16.53315442160854\n",
    "1993577,8.377598784006866\n",
    "...\n",
    "```\n",
    "\n",
    "A leaderboard for this challenge will be ranked using the root mean squared error between the predicted values and the observed arrival delays. However, you can use other metrics for regression tasks in your presentation notebook to evaluate many aspects of your model, including quantification of the uncertainty in the predictions.\n",
    "\n",
    "Below is an example of creating a submission file.\n"
   ]
  },
  {
   "cell_type": "code",
   "execution_count": null,
   "metadata": {
    "execution": {
     "iopub.execute_input": "2023-04-03T13:05:24.927972Z",
     "iopub.status.busy": "2023-04-03T13:05:24.926708Z",
     "iopub.status.idle": "2023-04-03T13:05:26.304265Z",
     "shell.execute_reply": "2023-04-03T13:05:26.302846Z",
     "shell.execute_reply.started": "2023-04-03T13:05:24.927864Z"
    }
   },
   "outputs": [],
   "source": [
    "submission_df = pd.DataFrame(data={'index': df_test['index'].values,\n",
    "                                   'fact_temperature': ypred_te.squeeze()})\n",
    "\n",
    "# Save the predictions into a csv file\n",
    "# Notice that this file should be saved under the directory `/kaggle/working` \n",
    "# so that you can download it later\n",
    "submission_df.to_csv(\"/kaggle/working/submission.csv\", index=False)"
   ]
  },
  {
   "cell_type": "code",
   "execution_count": null,
   "metadata": {
    "execution": {
     "iopub.execute_input": "2023-04-03T13:05:26.834444Z",
     "iopub.status.busy": "2023-04-03T13:05:26.833994Z",
     "iopub.status.idle": "2023-04-03T13:05:27.97366Z",
     "shell.execute_reply": "2023-04-03T13:05:27.972082Z",
     "shell.execute_reply.started": "2023-04-03T13:05:26.834403Z"
    }
   },
   "outputs": [],
   "source": [
    "# Check the submission file\n",
    "! head -6 \"/kaggle/working/submission.csv\""
   ]
  }
 ],
 "metadata": {
  "kernelspec": {
   "display_name": "Python 3 (ipykernel)",
   "language": "python",
   "name": "python3"
  },
  "language_info": {
   "codemirror_mode": {
    "name": "ipython",
    "version": 3
   },
   "file_extension": ".py",
   "mimetype": "text/x-python",
   "name": "python",
   "nbconvert_exporter": "python",
   "pygments_lexer": "ipython3",
   "version": "3.11.3"
  }
 },
 "nbformat": 4,
 "nbformat_minor": 4
}
